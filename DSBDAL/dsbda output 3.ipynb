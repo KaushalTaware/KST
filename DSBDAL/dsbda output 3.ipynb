{
 "cells": [
  {
   "cell_type": "code",
   "execution_count": 1,
   "id": "55cc2d92",
   "metadata": {},
   "outputs": [],
   "source": [
    "import pandas as pd\n",
    "import numpy as np"
   ]
  },
  {
   "cell_type": "code",
   "execution_count": 2,
   "id": "8f2fae3c",
   "metadata": {},
   "outputs": [],
   "source": [
    "df=pd.read_csv(r\"C:\\Users\\kaush\\Downloads\\housing.csv\")"
   ]
  },
  {
   "cell_type": "code",
   "execution_count": 3,
   "id": "3c8540a7",
   "metadata": {},
   "outputs": [
    {
     "data": {
      "text/html": [
       "<div>\n",
       "<style scoped>\n",
       "    .dataframe tbody tr th:only-of-type {\n",
       "        vertical-align: middle;\n",
       "    }\n",
       "\n",
       "    .dataframe tbody tr th {\n",
       "        vertical-align: top;\n",
       "    }\n",
       "\n",
       "    .dataframe thead th {\n",
       "        text-align: right;\n",
       "    }\n",
       "</style>\n",
       "<table border=\"1\" class=\"dataframe\">\n",
       "  <thead>\n",
       "    <tr style=\"text-align: right;\">\n",
       "      <th></th>\n",
       "      <th>RM</th>\n",
       "      <th>LSTAT</th>\n",
       "      <th>PTRATIO</th>\n",
       "      <th>MEDV</th>\n",
       "    </tr>\n",
       "  </thead>\n",
       "  <tbody>\n",
       "    <tr>\n",
       "      <th>0</th>\n",
       "      <td>6.575</td>\n",
       "      <td>4.98</td>\n",
       "      <td>15.3</td>\n",
       "      <td>504000.0</td>\n",
       "    </tr>\n",
       "    <tr>\n",
       "      <th>1</th>\n",
       "      <td>6.421</td>\n",
       "      <td>9.14</td>\n",
       "      <td>17.8</td>\n",
       "      <td>453600.0</td>\n",
       "    </tr>\n",
       "    <tr>\n",
       "      <th>2</th>\n",
       "      <td>7.185</td>\n",
       "      <td>4.03</td>\n",
       "      <td>17.8</td>\n",
       "      <td>728700.0</td>\n",
       "    </tr>\n",
       "    <tr>\n",
       "      <th>3</th>\n",
       "      <td>6.998</td>\n",
       "      <td>2.94</td>\n",
       "      <td>18.7</td>\n",
       "      <td>701400.0</td>\n",
       "    </tr>\n",
       "    <tr>\n",
       "      <th>4</th>\n",
       "      <td>7.147</td>\n",
       "      <td>5.33</td>\n",
       "      <td>18.7</td>\n",
       "      <td>760200.0</td>\n",
       "    </tr>\n",
       "    <tr>\n",
       "      <th>...</th>\n",
       "      <td>...</td>\n",
       "      <td>...</td>\n",
       "      <td>...</td>\n",
       "      <td>...</td>\n",
       "    </tr>\n",
       "    <tr>\n",
       "      <th>484</th>\n",
       "      <td>6.593</td>\n",
       "      <td>9.67</td>\n",
       "      <td>21.0</td>\n",
       "      <td>470400.0</td>\n",
       "    </tr>\n",
       "    <tr>\n",
       "      <th>485</th>\n",
       "      <td>6.120</td>\n",
       "      <td>9.08</td>\n",
       "      <td>21.0</td>\n",
       "      <td>432600.0</td>\n",
       "    </tr>\n",
       "    <tr>\n",
       "      <th>486</th>\n",
       "      <td>6.976</td>\n",
       "      <td>5.64</td>\n",
       "      <td>21.0</td>\n",
       "      <td>501900.0</td>\n",
       "    </tr>\n",
       "    <tr>\n",
       "      <th>487</th>\n",
       "      <td>6.794</td>\n",
       "      <td>6.48</td>\n",
       "      <td>21.0</td>\n",
       "      <td>462000.0</td>\n",
       "    </tr>\n",
       "    <tr>\n",
       "      <th>488</th>\n",
       "      <td>6.030</td>\n",
       "      <td>7.88</td>\n",
       "      <td>21.0</td>\n",
       "      <td>249900.0</td>\n",
       "    </tr>\n",
       "  </tbody>\n",
       "</table>\n",
       "<p>489 rows × 4 columns</p>\n",
       "</div>"
      ],
      "text/plain": [
       "        RM  LSTAT  PTRATIO      MEDV\n",
       "0    6.575   4.98     15.3  504000.0\n",
       "1    6.421   9.14     17.8  453600.0\n",
       "2    7.185   4.03     17.8  728700.0\n",
       "3    6.998   2.94     18.7  701400.0\n",
       "4    7.147   5.33     18.7  760200.0\n",
       "..     ...    ...      ...       ...\n",
       "484  6.593   9.67     21.0  470400.0\n",
       "485  6.120   9.08     21.0  432600.0\n",
       "486  6.976   5.64     21.0  501900.0\n",
       "487  6.794   6.48     21.0  462000.0\n",
       "488  6.030   7.88     21.0  249900.0\n",
       "\n",
       "[489 rows x 4 columns]"
      ]
     },
     "execution_count": 3,
     "metadata": {},
     "output_type": "execute_result"
    }
   ],
   "source": [
    "df"
   ]
  },
  {
   "cell_type": "code",
   "execution_count": 4,
   "id": "e5e64d91",
   "metadata": {},
   "outputs": [
    {
     "data": {
      "text/plain": [
       "RM              6.240288\n",
       "LSTAT          12.939632\n",
       "PTRATIO        18.516564\n",
       "MEDV       454342.944785\n",
       "dtype: float64"
      ]
     },
     "execution_count": 4,
     "metadata": {},
     "output_type": "execute_result"
    }
   ],
   "source": [
    "df.mean()"
   ]
  },
  {
   "cell_type": "code",
   "execution_count": 5,
   "id": "739f4055",
   "metadata": {},
   "outputs": [
    {
     "data": {
      "text/plain": [
       "6.240288343558283"
      ]
     },
     "execution_count": 5,
     "metadata": {},
     "output_type": "execute_result"
    }
   ],
   "source": [
    "df.loc[:,'RM'].mean()"
   ]
  },
  {
   "cell_type": "code",
   "execution_count": 6,
   "id": "63aa5626",
   "metadata": {},
   "outputs": [
    {
     "data": {
      "text/plain": [
       "0    126006.71375\n",
       "1    113408.34025\n",
       "2    182182.25375\n",
       "3    175357.15950\n",
       "dtype: float64"
      ]
     },
     "execution_count": 6,
     "metadata": {},
     "output_type": "execute_result"
    }
   ],
   "source": [
    "df.mean(axis=1)[0:4]"
   ]
  },
  {
   "cell_type": "code",
   "execution_count": 7,
   "id": "0414f92d",
   "metadata": {},
   "outputs": [
    {
     "data": {
      "text/plain": [
       "RM              6.185\n",
       "LSTAT          11.690\n",
       "PTRATIO        19.100\n",
       "MEDV       438900.000\n",
       "dtype: float64"
      ]
     },
     "execution_count": 7,
     "metadata": {},
     "output_type": "execute_result"
    }
   ],
   "source": [
    "df.median()"
   ]
  },
  {
   "cell_type": "code",
   "execution_count": 8,
   "id": "c39b6cd5",
   "metadata": {},
   "outputs": [
    {
     "data": {
      "text/plain": [
       "6.185"
      ]
     },
     "execution_count": 8,
     "metadata": {},
     "output_type": "execute_result"
    }
   ],
   "source": [
    "df.loc[:,'RM'].median()"
   ]
  },
  {
   "cell_type": "code",
   "execution_count": 9,
   "id": "96185a64",
   "metadata": {},
   "outputs": [
    {
     "data": {
      "text/plain": [
       "0    10.9375\n",
       "1    13.4700\n",
       "2    12.4925\n",
       "3    12.8490\n",
       "dtype: float64"
      ]
     },
     "execution_count": 9,
     "metadata": {},
     "output_type": "execute_result"
    }
   ],
   "source": [
    "df.median(axis=1)[0:4]"
   ]
  },
  {
   "cell_type": "code",
   "execution_count": 10,
   "id": "3212d9ba",
   "metadata": {},
   "outputs": [
    {
     "data": {
      "text/html": [
       "<div>\n",
       "<style scoped>\n",
       "    .dataframe tbody tr th:only-of-type {\n",
       "        vertical-align: middle;\n",
       "    }\n",
       "\n",
       "    .dataframe tbody tr th {\n",
       "        vertical-align: top;\n",
       "    }\n",
       "\n",
       "    .dataframe thead th {\n",
       "        text-align: right;\n",
       "    }\n",
       "</style>\n",
       "<table border=\"1\" class=\"dataframe\">\n",
       "  <thead>\n",
       "    <tr style=\"text-align: right;\">\n",
       "      <th></th>\n",
       "      <th>RM</th>\n",
       "      <th>LSTAT</th>\n",
       "      <th>PTRATIO</th>\n",
       "      <th>MEDV</th>\n",
       "    </tr>\n",
       "  </thead>\n",
       "  <tbody>\n",
       "    <tr>\n",
       "      <th>0</th>\n",
       "      <td>5.713</td>\n",
       "      <td>6.36</td>\n",
       "      <td>20.2</td>\n",
       "      <td>525000.0</td>\n",
       "    </tr>\n",
       "    <tr>\n",
       "      <th>1</th>\n",
       "      <td>6.127</td>\n",
       "      <td>7.79</td>\n",
       "      <td>NaN</td>\n",
       "      <td>NaN</td>\n",
       "    </tr>\n",
       "    <tr>\n",
       "      <th>2</th>\n",
       "      <td>6.167</td>\n",
       "      <td>8.05</td>\n",
       "      <td>NaN</td>\n",
       "      <td>NaN</td>\n",
       "    </tr>\n",
       "    <tr>\n",
       "      <th>3</th>\n",
       "      <td>6.229</td>\n",
       "      <td>14.10</td>\n",
       "      <td>NaN</td>\n",
       "      <td>NaN</td>\n",
       "    </tr>\n",
       "    <tr>\n",
       "      <th>4</th>\n",
       "      <td>6.405</td>\n",
       "      <td>18.13</td>\n",
       "      <td>NaN</td>\n",
       "      <td>NaN</td>\n",
       "    </tr>\n",
       "    <tr>\n",
       "      <th>5</th>\n",
       "      <td>6.417</td>\n",
       "      <td>NaN</td>\n",
       "      <td>NaN</td>\n",
       "      <td>NaN</td>\n",
       "    </tr>\n",
       "  </tbody>\n",
       "</table>\n",
       "</div>"
      ],
      "text/plain": [
       "      RM  LSTAT  PTRATIO      MEDV\n",
       "0  5.713   6.36     20.2  525000.0\n",
       "1  6.127   7.79      NaN       NaN\n",
       "2  6.167   8.05      NaN       NaN\n",
       "3  6.229  14.10      NaN       NaN\n",
       "4  6.405  18.13      NaN       NaN\n",
       "5  6.417    NaN      NaN       NaN"
      ]
     },
     "execution_count": 10,
     "metadata": {},
     "output_type": "execute_result"
    }
   ],
   "source": [
    "df.mode()"
   ]
  },
  {
   "cell_type": "code",
   "execution_count": 11,
   "id": "626938d8",
   "metadata": {},
   "outputs": [
    {
     "data": {
      "text/plain": [
       "0    5.713\n",
       "1    6.127\n",
       "2    6.167\n",
       "3    6.229\n",
       "4    6.405\n",
       "5    6.417\n",
       "Name: RM, dtype: float64"
      ]
     },
     "execution_count": 11,
     "metadata": {},
     "output_type": "execute_result"
    }
   ],
   "source": [
    "df.loc[:,'RM'].mode()"
   ]
  },
  {
   "cell_type": "code",
   "execution_count": 12,
   "id": "5bfecbf9",
   "metadata": {},
   "outputs": [
    {
     "data": {
      "text/plain": [
       "RM              3.561\n",
       "LSTAT           1.980\n",
       "PTRATIO        12.600\n",
       "MEDV       105000.000\n",
       "dtype: float64"
      ]
     },
     "execution_count": 12,
     "metadata": {},
     "output_type": "execute_result"
    }
   ],
   "source": [
    "df.min()"
   ]
  },
  {
   "cell_type": "code",
   "execution_count": 13,
   "id": "83124029",
   "metadata": {},
   "outputs": [
    {
     "data": {
      "text/plain": [
       "3.561"
      ]
     },
     "execution_count": 13,
     "metadata": {},
     "output_type": "execute_result"
    }
   ],
   "source": [
    "df.loc[:,'RM'].min(skipna=False)"
   ]
  },
  {
   "cell_type": "code",
   "execution_count": 14,
   "id": "a641638e",
   "metadata": {},
   "outputs": [
    {
     "data": {
      "text/plain": [
       "RM               8.398\n",
       "LSTAT           37.970\n",
       "PTRATIO         22.000\n",
       "MEDV       1024800.000\n",
       "dtype: float64"
      ]
     },
     "execution_count": 14,
     "metadata": {},
     "output_type": "execute_result"
    }
   ],
   "source": [
    "df.max()"
   ]
  },
  {
   "cell_type": "code",
   "execution_count": 16,
   "id": "74edc016",
   "metadata": {},
   "outputs": [
    {
     "data": {
      "text/plain": [
       "8.398"
      ]
     },
     "execution_count": 16,
     "metadata": {},
     "output_type": "execute_result"
    }
   ],
   "source": [
    "df.loc[:,'RM'].max(skipna=False)"
   ]
  },
  {
   "cell_type": "code",
   "execution_count": 17,
   "id": "029dfb3a",
   "metadata": {},
   "outputs": [
    {
     "data": {
      "text/plain": [
       "RM              0.643650\n",
       "LSTAT           7.081990\n",
       "PTRATIO         2.111268\n",
       "MEDV       165340.277653\n",
       "dtype: float64"
      ]
     },
     "execution_count": 17,
     "metadata": {},
     "output_type": "execute_result"
    }
   ],
   "source": [
    "df.std()"
   ]
  },
  {
   "cell_type": "code",
   "execution_count": 18,
   "id": "86881076",
   "metadata": {},
   "outputs": [
    {
     "data": {
      "text/plain": [
       "0.6436497627572431"
      ]
     },
     "execution_count": 18,
     "metadata": {},
     "output_type": "execute_result"
    }
   ],
   "source": [
    "df.loc[:,'RM'].std()"
   ]
  },
  {
   "cell_type": "code",
   "execution_count": 19,
   "id": "29b9532c",
   "metadata": {},
   "outputs": [
    {
     "data": {
      "text/plain": [
       "0    251995.524207\n",
       "1    226794.439885\n",
       "2    364345.164214\n",
       "3    350695.227064\n",
       "dtype: float64"
      ]
     },
     "execution_count": 19,
     "metadata": {},
     "output_type": "execute_result"
    }
   ],
   "source": [
    "df.std(axis=1)[0:4]"
   ]
  },
  {
   "cell_type": "code",
   "execution_count": 20,
   "id": "b60e1bae",
   "metadata": {},
   "outputs": [
    {
     "data": {
      "text/plain": [
       "LSTAT\n",
       "1.98     7.024\n",
       "2.47     8.337\n",
       "2.87     7.178\n",
       "2.94     6.998\n",
       "2.98     6.854\n",
       "         ...  \n",
       "34.37    4.628\n",
       "34.41    5.019\n",
       "34.77    4.906\n",
       "36.98    4.519\n",
       "37.97    4.138\n",
       "Name: RM, Length: 442, dtype: float64"
      ]
     },
     "execution_count": 20,
     "metadata": {},
     "output_type": "execute_result"
    }
   ],
   "source": [
    "df.groupby(['LSTAT'])['RM'].mean()"
   ]
  },
  {
   "cell_type": "code",
   "execution_count": 22,
   "id": "05b12657",
   "metadata": {},
   "outputs": [
    {
     "name": "stdout",
     "output_type": "stream",
     "text": [
      "0      0.520554\n",
      "1      0.281048\n",
      "2      1.469245\n",
      "3      1.178417\n",
      "4      1.410146\n",
      "         ...   \n",
      "484    0.548548\n",
      "485    0.187076\n",
      "486    1.144202\n",
      "487    0.861150\n",
      "488    0.327047\n",
      "Name: RM, Length: 489, dtype: float64\n"
     ]
    }
   ],
   "source": [
    "from scipy import stats\n",
    "df=pd.read_csv(r\"C:\\Users\\kaush\\Downloads\\housing.csv\")\n",
    "z= np.abs(stats.zscore(df['RM']))\n",
    "print(z)"
   ]
  },
  {
   "cell_type": "code",
   "execution_count": 23,
   "id": "78b337fc",
   "metadata": {},
   "outputs": [
    {
     "data": {
      "text/plain": [
       "(array([  7,  22,  42,  43,  58,  65,  73,  74,  75,  76,  77,  78,  82,\n",
       "         83,  93,  94,  96, 103, 104, 107, 109, 110, 114, 116, 131, 135,\n",
       "        139, 140, 145, 154, 155, 160, 164, 173, 177, 181, 195, 199, 208,\n",
       "        214, 239, 261, 275, 276, 277, 282, 287, 302, 315, 318, 319, 322,\n",
       "        323, 345, 347, 350, 362, 376, 384, 410, 411, 413, 417, 420, 425,\n",
       "        429, 430, 431, 435, 441, 445, 447, 453, 454, 458, 461, 462, 463,\n",
       "        468], dtype=int64),)"
      ]
     },
     "execution_count": 23,
     "metadata": {},
     "output_type": "execute_result"
    }
   ],
   "source": [
    "threshold=0.18\n",
    "sample_outliers=np.where(z<threshold)\n",
    "sample_outliers"
   ]
  },
  {
   "cell_type": "code",
   "execution_count": 24,
   "id": "ddb8f7d9",
   "metadata": {},
   "outputs": [
    {
     "name": "stdout",
     "output_type": "stream",
     "text": [
      "5.392519999999999 5.5580799999999995\n"
     ]
    }
   ],
   "source": [
    "sorted_rscore= sorted(df['RM'])\n",
    "sorted_rscore\n",
    "q1 =np.percentile(sorted_rscore,6)\n",
    "q3 =np.percentile(sorted_rscore,9)\n",
    "print(q1,q3)"
   ]
  },
  {
   "cell_type": "code",
   "execution_count": 25,
   "id": "6e7d8590",
   "metadata": {},
   "outputs": [
    {
     "name": "stdout",
     "output_type": "stream",
     "text": [
      "5.144179999999999 5.806419999999999\n"
     ]
    }
   ],
   "source": [
    "IQR = q3-q1\n",
    "lwr_bound =q1-(1.5*IQR)\n",
    "upr_bound =q3+(1.5*IQR)\n",
    "print(lwr_bound, upr_bound)"
   ]
  },
  {
   "cell_type": "code",
   "execution_count": 26,
   "id": "8043d6f0",
   "metadata": {},
   "outputs": [
    {
     "name": "stdout",
     "output_type": "stream",
     "text": [
      "[3.561, 3.863, 4.138, 4.138, 4.368, 4.519, 4.628, 4.652, 4.88, 4.903, 4.906, 4.926, 4.963, 4.973, 5.0, 5.012, 5.019, 5.036, 5.093, 5.807, 5.813, 5.813, 5.818, 5.822, 5.834, 5.836, 5.837, 5.841, 5.85, 5.851, 5.852, 5.854, 5.854, 5.856, 5.856, 5.857, 5.859, 5.868, 5.869, 5.87, 5.871, 5.872, 5.874, 5.875, 5.876, 5.877, 5.878, 5.879, 5.88, 5.884, 5.885, 5.887, 5.888, 5.888, 5.889, 5.891, 5.895, 5.896, 5.898, 5.905, 5.913, 5.914, 5.92, 5.924, 5.926, 5.926, 5.927, 5.928, 5.933, 5.935, 5.935, 5.936, 5.936, 5.942, 5.949, 5.95, 5.951, 5.952, 5.957, 5.96, 5.961, 5.961, 5.963, 5.965, 5.966, 5.966, 5.968, 5.972, 5.976, 5.981, 5.983, 5.983, 5.985, 5.986, 5.987, 5.99, 5.998, 6.003, 6.004, 6.004, 6.006, 6.009, 6.009, 6.012, 6.014, 6.015, 6.019, 6.02, 6.021, 6.023, 6.027, 6.03, 6.03, 6.031, 6.037, 6.041, 6.047, 6.051, 6.059, 6.064, 6.065, 6.066, 6.069, 6.072, 6.081, 6.083, 6.086, 6.092, 6.095, 6.096, 6.096, 6.101, 6.103, 6.108, 6.108, 6.112, 6.113, 6.114, 6.115, 6.12, 6.121, 6.122, 6.122, 6.127, 6.127, 6.127, 6.129, 6.13, 6.137, 6.14, 6.142, 6.144, 6.144, 6.145, 6.151, 6.152, 6.152, 6.153, 6.162, 6.162, 6.163, 6.164, 6.167, 6.167, 6.167, 6.169, 6.172, 6.174, 6.176, 6.182, 6.185, 6.185, 6.193, 6.193, 6.195, 6.202, 6.208, 6.209, 6.209, 6.211, 6.211, 6.212, 6.219, 6.223, 6.226, 6.229, 6.229, 6.229, 6.23, 6.232, 6.24, 6.242, 6.245, 6.249, 6.25, 6.251, 6.251, 6.254, 6.266, 6.273, 6.279, 6.286, 6.29, 6.297, 6.301, 6.302, 6.31, 6.312, 6.312, 6.315, 6.315, 6.316, 6.317, 6.319, 6.326, 6.326, 6.333, 6.335, 6.341, 6.343, 6.345, 6.348, 6.358, 6.372, 6.373, 6.375, 6.376, 6.376, 6.377, 6.38, 6.38, 6.382, 6.383, 6.389, 6.393, 6.395, 6.398, 6.402, 6.404, 6.405, 6.405, 6.405, 6.406, 6.411, 6.415, 6.416, 6.417, 6.417, 6.417, 6.421, 6.425, 6.426, 6.43, 6.431, 6.431, 6.433, 6.434, 6.436, 6.437, 6.438, 6.442, 6.453, 6.454, 6.456, 6.458, 6.459, 6.461, 6.471, 6.474, 6.481, 6.482, 6.484, 6.485, 6.487, 6.49, 6.495, 6.495, 6.51, 6.511, 6.513, 6.516, 6.525, 6.538, 6.54, 6.545, 6.546, 6.549, 6.552, 6.556, 6.563, 6.565, 6.567, 6.575, 6.579, 6.59, 6.593, 6.595, 6.604, 6.606, 6.616, 6.618, 6.619, 6.625, 6.629, 6.63, 6.63, 6.631, 6.635, 6.635, 6.642, 6.649, 6.655, 6.657, 6.674, 6.678, 6.696, 6.701, 6.715, 6.718, 6.726, 6.727, 6.727, 6.728, 6.728, 6.739, 6.749, 6.75, 6.758, 6.762, 6.77, 6.781, 6.782, 6.782, 6.794, 6.794, 6.8, 6.812, 6.816, 6.824, 6.826, 6.833, 6.842, 6.849, 6.852, 6.854, 6.86, 6.861, 6.871, 6.874, 6.879, 6.897, 6.939, 6.943, 6.951, 6.951, 6.957, 6.968, 6.968, 6.975, 6.976, 6.98, 6.98, 6.982, 6.998, 7.007, 7.014, 7.024, 7.041, 7.061, 7.079, 7.088, 7.104, 7.107, 7.135, 7.147, 7.148, 7.155, 7.163, 7.178, 7.185, 7.185, 7.203, 7.206, 7.236, 7.241, 7.249, 7.267, 7.274, 7.287, 7.313, 7.327, 7.333, 7.358, 7.393, 7.412, 7.416, 7.42, 7.454, 7.47, 7.52, 7.61, 7.645, 7.686, 7.691, 7.765, 7.82, 7.82, 7.853, 8.04, 8.069, 8.247, 8.259, 8.266, 8.337, 8.398]\n"
     ]
    }
   ],
   "source": [
    "r_outliers =[]\n",
    "for i in sorted_rscore:\n",
    "    if(i<lwr_bound or i>upr_bound):\n",
    "        r_outliers.append(i)\n",
    "print(r_outliers)        "
   ]
  }
 ],
 "metadata": {
  "kernelspec": {
   "display_name": "Python 3 (ipykernel)",
   "language": "python",
   "name": "python3"
  },
  "language_info": {
   "codemirror_mode": {
    "name": "ipython",
    "version": 3
   },
   "file_extension": ".py",
   "mimetype": "text/x-python",
   "name": "python",
   "nbconvert_exporter": "python",
   "pygments_lexer": "ipython3",
   "version": "3.11.5"
  }
 },
 "nbformat": 4,
 "nbformat_minor": 5
}
